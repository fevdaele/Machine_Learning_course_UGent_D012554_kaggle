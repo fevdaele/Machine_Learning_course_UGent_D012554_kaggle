{
  "nbformat": 4,
  "nbformat_minor": 0,
  "metadata": {
    "colab": {
      "name": "PredictionsFemke_12/05/2020_version2",
      "provenance": [],
      "collapsed_sections": [],
      "toc_visible": true,
      "authorship_tag": "ABX9TyOAXvb2wMXwyBJ9yY2IlH4c",
      "include_colab_link": true
    },
    "kernelspec": {
      "name": "python3",
      "display_name": "Python 3"
    }
  },
  "cells": [
    {
      "cell_type": "markdown",
      "metadata": {
        "id": "view-in-github",
        "colab_type": "text"
      },
      "source": [
        "<a href=\"https://colab.research.google.com/github/fevdaele/Machine_Learning_course_UGent_D012554_kaggle/blob/master/PredictionsFemke_12_05_2020_version2.ipynb\" target=\"_parent\"><img src=\"https://colab.research.google.com/assets/colab-badge.svg\" alt=\"Open In Colab\"/></a>"
      ]
    },
    {
      "cell_type": "code",
      "metadata": {
        "id": "C2dDgtaQBMk6",
        "colab_type": "code",
        "colab": {
          "base_uri": "https://localhost:8080/",
          "height": 71
        },
        "outputId": "d1a37316-463e-47f0-e17e-e6cecdcca0ab"
      },
      "source": [
        "%matplotlib inline\n",
        "import matplotlib.pyplot as plt;\n",
        "import numpy as np;\n",
        "import pandas as pd;\n",
        "import seaborn as sns;\n",
        "sns.set_context(\"notebook\", font_scale=1.4);\n",
        "sns.set_style(\"whitegrid\");\n",
        "from sklearn.linear_model import LogisticRegression\n",
        "from sklearn.model_selection import cross_val_score"
      ],
      "execution_count": 1,
      "outputs": [
        {
          "output_type": "stream",
          "text": [
            "/usr/local/lib/python3.6/dist-packages/statsmodels/tools/_testing.py:19: FutureWarning: pandas.util.testing is deprecated. Use the functions in the public API at pandas.testing instead.\n",
            "  import pandas.util.testing as tm\n"
          ],
          "name": "stderr"
        }
      ]
    },
    {
      "cell_type": "markdown",
      "metadata": {
        "id": "RSVTfIAOCPgZ",
        "colab_type": "text"
      },
      "source": [
        "### **Load train and dataset**"
      ]
    },
    {
      "cell_type": "code",
      "metadata": {
        "id": "YVeyic8yCTS0",
        "colab_type": "code",
        "colab": {}
      },
      "source": [
        "trainset = pd.read_csv(\"https://raw.githubusercontent.com/sdgroeve/Machine_Learning_course_UGent_D012554_kaggle/master/eeg_train.csv\")\n",
        "\n",
        "testset = pd.read_csv(\"https://raw.githubusercontent.com/sdgroeve/Machine_Learning_course_UGent_D012554_kaggle/master/eeg_test.csv\")"
      ],
      "execution_count": 0,
      "outputs": []
    },
    {
      "cell_type": "markdown",
      "metadata": {
        "id": "cNDTIIY0CdoI",
        "colab_type": "text"
      },
      "source": [
        "### **Data pre processing**"
      ]
    },
    {
      "cell_type": "code",
      "metadata": {
        "id": "UXHbDZ8VCgYL",
        "colab_type": "code",
        "colab": {}
      },
      "source": [
        "data_train = trainset.copy()\n",
        "label_column = data_train.pop('label')\n",
        "\n",
        "data_test = testset.copy()\n",
        "index_column = data_test.pop('index')"
      ],
      "execution_count": 0,
      "outputs": []
    },
    {
      "cell_type": "markdown",
      "metadata": {
        "id": "QNL8HfIgCjTO",
        "colab_type": "text"
      },
      "source": [
        "**Scaling of trainset**"
      ]
    },
    {
      "cell_type": "code",
      "metadata": {
        "id": "fo1hspnaClQA",
        "colab_type": "code",
        "colab": {}
      },
      "source": [
        "from sklearn.preprocessing import StandardScaler\n",
        "\n",
        "scaler = StandardScaler()\n",
        "data_train = scaler.fit_transform(data_train)\n",
        "\n",
        "\n",
        "#plt.figure(figsize=(12,8))\n",
        "#trainset_scaled.boxplot(vert=False)\n",
        "#plt.show()"
      ],
      "execution_count": 0,
      "outputs": []
    },
    {
      "cell_type": "markdown",
      "metadata": {
        "id": "b3H1HMr_Cqc1",
        "colab_type": "text"
      },
      "source": [
        "**Scaling of testset**"
      ]
    },
    {
      "cell_type": "code",
      "metadata": {
        "id": "bG3ntuf5Cnyi",
        "colab_type": "code",
        "colab": {}
      },
      "source": [
        "data_test = scaler.transform(data_test)\n",
        "#plt.figure(figsize=(12,8))\n",
        "#testset_scaled.boxplot(vert=False)\n",
        "#plt.show()\n"
      ],
      "execution_count": 0,
      "outputs": []
    },
    {
      "cell_type": "markdown",
      "metadata": {
        "id": "xDKDCW6uCvxA",
        "colab_type": "text"
      },
      "source": [
        "### ***Model selection and validation***"
      ]
    },
    {
      "cell_type": "code",
      "metadata": {
        "id": "GpzMiik2Ic-Q",
        "colab_type": "code",
        "outputId": "bc4fe275-1dc9-4368-a6a2-f75ba0eb0194",
        "colab": {
          "base_uri": "https://localhost:8080/",
          "height": 34
        }
      },
      "source": [
        "from sklearn.svm import SVC\n",
        "\n",
        "y = label_column\n",
        "X = data_train\n",
        "\n",
        "model = SVC(kernel='rbf', gamma=1 , C=1)\n",
        "\n",
        "score_auc = cross_val_score(model, data_train, y=trainset['label'], scoring = 'roc_auc', cv=10).mean()\n",
        "print(score_auc)\n"
      ],
      "execution_count": 9,
      "outputs": [
        {
          "output_type": "stream",
          "text": [
            "0.9581062148860315\n"
          ],
          "name": "stdout"
        }
      ]
    },
    {
      "cell_type": "markdown",
      "metadata": {
        "id": "w23fn9yfCz-3",
        "colab_type": "text"
      },
      "source": [
        "### ***Model optimization***"
      ]
    },
    {
      "cell_type": "code",
      "metadata": {
        "id": "cnS5SKkKLS-5",
        "colab_type": "code",
        "outputId": "66e2ee72-5ca1-45a6-905a-6a506eed7bd7",
        "colab": {
          "base_uri": "https://localhost:8080/",
          "height": 119
        }
      },
      "source": [
        "from sklearn.model_selection import GridSearchCV, cross_val_predict\n",
        "from sklearn import metrics\n",
        "\n",
        "X = data_train\n",
        "y = label_column\n",
        "\n",
        "\n",
        "search_space_C = [0.001, 0.01, 0.1, 1, 10]\n",
        "search_space_gamma = [1, 2, 3, 4, 5, 6]\n",
        "param_grid = {'gamma': search_space_gamma, 'C' : search_space_C}\n",
        "grid_search = GridSearchCV(model, param_grid, scoring = 'roc_auc', cv=10)\n",
        "grid_search.fit(X, y)\n",
        "\n",
        "print(grid_search.best_estimator_)\n",
        "print(grid_search.best_params_)\n",
        "print(grid_search.best_score_)\n"
      ],
      "execution_count": 10,
      "outputs": [
        {
          "output_type": "stream",
          "text": [
            "SVC(C=10, break_ties=False, cache_size=200, class_weight=None, coef0=0.0,\n",
            "    decision_function_shape='ovr', degree=3, gamma=1, kernel='rbf', max_iter=-1,\n",
            "    probability=False, random_state=None, shrinking=True, tol=0.001,\n",
            "    verbose=False)\n",
            "{'C': 10, 'gamma': 1}\n",
            "0.9625710354884667\n"
          ],
          "name": "stdout"
        }
      ]
    },
    {
      "cell_type": "markdown",
      "metadata": {
        "id": "FmndjJvkC37x",
        "colab_type": "text"
      },
      "source": [
        "**Define and validate model with optimized hyper parameter**"
      ]
    },
    {
      "cell_type": "code",
      "metadata": {
        "id": "ec5KjL7FQ9Y8",
        "colab_type": "code",
        "outputId": "6116a989-98f9-49cd-9ebd-099437245b93",
        "colab": {
          "base_uri": "https://localhost:8080/",
          "height": 34
        }
      },
      "source": [
        "model = SVC(kernel='rbf', gamma=1, C=10, probability=True)\n",
        "score_auc = cross_val_score(model, data_train, y=trainset['label'], scoring = 'roc_auc', cv=10).mean()\n",
        "print(score_auc)"
      ],
      "execution_count": 11,
      "outputs": [
        {
          "output_type": "stream",
          "text": [
            "0.9625710354884667\n"
          ],
          "name": "stdout"
        }
      ]
    },
    {
      "cell_type": "markdown",
      "metadata": {
        "id": "s7-1KEMFDFmX",
        "colab_type": "text"
      },
      "source": [
        "### ***Fit model on trainset***"
      ]
    },
    {
      "cell_type": "code",
      "metadata": {
        "id": "qCMXPQghRDgU",
        "colab_type": "code",
        "outputId": "cfa4c7cf-e667-4ba9-80ee-d714c8fc1ba9",
        "colab": {
          "base_uri": "https://localhost:8080/",
          "height": 85
        }
      },
      "source": [
        "model.fit(X,y)"
      ],
      "execution_count": 12,
      "outputs": [
        {
          "output_type": "execute_result",
          "data": {
            "text/plain": [
              "SVC(C=10, break_ties=False, cache_size=200, class_weight=None, coef0=0.0,\n",
              "    decision_function_shape='ovr', degree=3, gamma=1, kernel='rbf', max_iter=-1,\n",
              "    probability=True, random_state=None, shrinking=True, tol=0.001,\n",
              "    verbose=False)"
            ]
          },
          "metadata": {
            "tags": []
          },
          "execution_count": 12
        }
      ]
    },
    {
      "cell_type": "markdown",
      "metadata": {
        "id": "rJEy-IyqDIbs",
        "colab_type": "text"
      },
      "source": [
        "### ***Make predictions***"
      ]
    },
    {
      "cell_type": "code",
      "metadata": {
        "id": "9eaImmMyDP-5",
        "colab_type": "code",
        "outputId": "6e962891-c044-4cf9-eb3b-719980d8eddd",
        "colab": {
          "base_uri": "https://localhost:8080/",
          "height": 136
        }
      },
      "source": [
        "predictions = model.predict_proba(data_test)\n",
        "print(predictions)"
      ],
      "execution_count": 13,
      "outputs": [
        {
          "output_type": "stream",
          "text": [
            "[[0.9962682  0.0037318 ]\n",
            " [0.62858231 0.37141769]\n",
            " [0.99262406 0.00737594]\n",
            " ...\n",
            " [0.11175654 0.88824346]\n",
            " [0.05209282 0.94790718]\n",
            " [0.99481326 0.00518674]]\n"
          ],
          "name": "stdout"
        }
      ]
    },
    {
      "cell_type": "markdown",
      "metadata": {
        "id": "ixjrfuEsDQg4",
        "colab_type": "text"
      },
      "source": [
        "**Create new dataframe to load predictions**"
      ]
    },
    {
      "cell_type": "code",
      "metadata": {
        "id": "MIT00mh1Dkyd",
        "colab_type": "code",
        "outputId": "346ab563-b111-44c1-c836-004189a21249",
        "colab": {
          "base_uri": "https://localhost:8080/",
          "height": 255
        }
      },
      "source": [
        "PredictionsFemke = pd.DataFrame(columns=['index','label'])\n",
        "PredictionsFemke['index'] = index_column\n",
        "PredictionsFemke['label'] = predictions[:,1]\n",
        "\n",
        "print(PredictionsFemke)"
      ],
      "execution_count": 14,
      "outputs": [
        {
          "output_type": "stream",
          "text": [
            "       index     label\n",
            "0          0  0.003732\n",
            "1          1  0.371418\n",
            "2          2  0.007376\n",
            "3          3  0.996818\n",
            "4          4  0.946966\n",
            "...      ...       ...\n",
            "12887  12887  0.118394\n",
            "12888  12888  0.975516\n",
            "12889  12889  0.888243\n",
            "12890  12890  0.947907\n",
            "12891  12891  0.005187\n",
            "\n",
            "[12892 rows x 2 columns]\n"
          ],
          "name": "stdout"
        }
      ]
    },
    {
      "cell_type": "markdown",
      "metadata": {
        "id": "MBKg5YzlDmVA",
        "colab_type": "text"
      },
      "source": [
        "### **Save predictions in csv file**"
      ]
    },
    {
      "cell_type": "code",
      "metadata": {
        "id": "kAknAi1EDoyD",
        "colab_type": "code",
        "colab": {}
      },
      "source": [
        "filename = \"PredictionsFemke12052020_version2.csv\"\n",
        "\n",
        "#make sure to not write the Pandas index column (index=False)\n",
        "PredictionsFemke.to_csv(filename,index=False)"
      ],
      "execution_count": 0,
      "outputs": []
    }
  ]
}