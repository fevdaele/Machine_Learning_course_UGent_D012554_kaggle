{
  "nbformat": 4,
  "nbformat_minor": 0,
  "metadata": {
    "colab": {
      "name": "PredictionsFemke_12/05/2020_version3",
      "provenance": [],
      "collapsed_sections": [],
      "toc_visible": true,
      "authorship_tag": "ABX9TyMp3xSPXgpKyCWYCRJoTopl",
      "include_colab_link": true
    },
    "kernelspec": {
      "name": "python3",
      "display_name": "Python 3"
    }
  },
  "cells": [
    {
      "cell_type": "markdown",
      "metadata": {
        "id": "view-in-github",
        "colab_type": "text"
      },
      "source": [
        "<a href=\"https://colab.research.google.com/github/fevdaele/Machine_Learning_course_UGent_D012554_kaggle/blob/master/PredictionsFemke_12_05_2020_version3.ipynb\" target=\"_parent\"><img src=\"https://colab.research.google.com/assets/colab-badge.svg\" alt=\"Open In Colab\"/></a>"
      ]
    },
    {
      "cell_type": "code",
      "metadata": {
        "id": "C2dDgtaQBMk6",
        "colab_type": "code",
        "colab": {}
      },
      "source": [
        "%matplotlib inline\n",
        "import matplotlib.pyplot as plt;\n",
        "import numpy as np;\n",
        "import pandas as pd;\n",
        "import seaborn as sns;\n",
        "sns.set_context(\"notebook\", font_scale=1.4);\n",
        "sns.set_style(\"whitegrid\");\n",
        "from sklearn.linear_model import LogisticRegression\n",
        "from sklearn.model_selection import cross_val_score"
      ],
      "execution_count": 0,
      "outputs": []
    },
    {
      "cell_type": "markdown",
      "metadata": {
        "id": "RSVTfIAOCPgZ",
        "colab_type": "text"
      },
      "source": [
        "### **Load train and dataset**"
      ]
    },
    {
      "cell_type": "code",
      "metadata": {
        "id": "YVeyic8yCTS0",
        "colab_type": "code",
        "colab": {}
      },
      "source": [
        "trainset = pd.read_csv(\"https://raw.githubusercontent.com/sdgroeve/Machine_Learning_course_UGent_D012554_kaggle/master/eeg_train.csv\")\n",
        "\n",
        "testset = pd.read_csv(\"https://raw.githubusercontent.com/sdgroeve/Machine_Learning_course_UGent_D012554_kaggle/master/eeg_test.csv\")"
      ],
      "execution_count": 0,
      "outputs": []
    },
    {
      "cell_type": "markdown",
      "metadata": {
        "id": "cNDTIIY0CdoI",
        "colab_type": "text"
      },
      "source": [
        "### **Data pre processing**"
      ]
    },
    {
      "cell_type": "code",
      "metadata": {
        "id": "UXHbDZ8VCgYL",
        "colab_type": "code",
        "colab": {}
      },
      "source": [
        "data_train = trainset.copy()\n",
        "label_column = data_train.pop('label')\n",
        "\n",
        "data_test = testset.copy()\n",
        "index_column = data_test.pop('index')"
      ],
      "execution_count": 0,
      "outputs": []
    },
    {
      "cell_type": "markdown",
      "metadata": {
        "id": "QNL8HfIgCjTO",
        "colab_type": "text"
      },
      "source": [
        "**Scaling of trainset**"
      ]
    },
    {
      "cell_type": "code",
      "metadata": {
        "id": "fo1hspnaClQA",
        "colab_type": "code",
        "colab": {}
      },
      "source": [
        "from sklearn.preprocessing import StandardScaler\n",
        "\n",
        "scaler = StandardScaler()\n",
        "data_train = scaler.fit_transform(data_train)\n",
        "\n",
        "\n",
        "#plt.figure(figsize=(12,8))\n",
        "#trainset_scaled.boxplot(vert=False)\n",
        "#plt.show()"
      ],
      "execution_count": 0,
      "outputs": []
    },
    {
      "cell_type": "markdown",
      "metadata": {
        "id": "b3H1HMr_Cqc1",
        "colab_type": "text"
      },
      "source": [
        "**Scaling of testset**"
      ]
    },
    {
      "cell_type": "code",
      "metadata": {
        "id": "bG3ntuf5Cnyi",
        "colab_type": "code",
        "colab": {}
      },
      "source": [
        "data_test = scaler.transform(data_test)\n",
        "#plt.figure(figsize=(12,8))\n",
        "#testset_scaled.boxplot(vert=False)\n",
        "#plt.show()\n"
      ],
      "execution_count": 0,
      "outputs": []
    },
    {
      "cell_type": "markdown",
      "metadata": {
        "id": "kHJCIRtiqsTn",
        "colab_type": "text"
      },
      "source": [
        "**Feature extraction**"
      ]
    },
    {
      "cell_type": "code",
      "metadata": {
        "id": "f5_KUMGApXiW",
        "colab_type": "code",
        "colab": {
          "base_uri": "https://localhost:8080/",
          "height": 34
        },
        "outputId": "babd9fe5-f3a9-4706-dfee-65c00a14265f"
      },
      "source": [
        "from sklearn.decomposition import PCA\n",
        "\n",
        "pca = PCA(n_components=7)\n",
        "pca.fit_transform(data_train)\n",
        "print(pca.explained_variance_ratio_.sum())\n"
      ],
      "execution_count": 55,
      "outputs": [
        {
          "output_type": "stream",
          "text": [
            "0.9468205971550513\n"
          ],
          "name": "stdout"
        }
      ]
    },
    {
      "cell_type": "code",
      "metadata": {
        "id": "7LPfeNCXkHWm",
        "colab_type": "code",
        "colab": {}
      },
      "source": [
        "pca = PCA(n_components=7)\n",
        "data_train = pd.DataFrame(pca.fit(data_train).transform(data_train),\n",
        "                                     columns=['PC1','PC2', 'PC3', 'PC4', 'PC5', 'PC6', 'PC7'])\n",
        "data_train['label'] = label_column\n",
        "\n",
        "data_test = pd.DataFrame(pca.transform(data_test), columns=['PC1','PC2', 'PC3', 'PC4', 'PC5', 'PC6', 'PC7'])\n",
        "data_test['index'] = index_column\n"
      ],
      "execution_count": 0,
      "outputs": []
    },
    {
      "cell_type": "markdown",
      "metadata": {
        "id": "xDKDCW6uCvxA",
        "colab_type": "text"
      },
      "source": [
        "### ***Model selection and validation***"
      ]
    },
    {
      "cell_type": "code",
      "metadata": {
        "id": "GpzMiik2Ic-Q",
        "colab_type": "code",
        "outputId": "034391ad-461a-498b-b5e9-b444d643140b",
        "colab": {
          "base_uri": "https://localhost:8080/",
          "height": 34
        }
      },
      "source": [
        "from sklearn.svm import SVC\n",
        "\n",
        "y = label_column\n",
        "X = data_train\n",
        "\n",
        "model = SVC(kernel='rbf', gamma=1 , C=1)\n",
        "\n",
        "score_auc = cross_val_score(model, data_train, y=trainset['label'], scoring = 'roc_auc', cv=10).mean()\n",
        "print(score_auc)\n"
      ],
      "execution_count": 57,
      "outputs": [
        {
          "output_type": "stream",
          "text": [
            "0.9998383838383837\n"
          ],
          "name": "stdout"
        }
      ]
    },
    {
      "cell_type": "markdown",
      "metadata": {
        "id": "w23fn9yfCz-3",
        "colab_type": "text"
      },
      "source": [
        "### ***Model optimization***"
      ]
    },
    {
      "cell_type": "code",
      "metadata": {
        "id": "cnS5SKkKLS-5",
        "colab_type": "code",
        "outputId": "c362640b-2bb3-4a56-9f14-49dbb86d6779",
        "colab": {
          "base_uri": "https://localhost:8080/",
          "height": 119
        }
      },
      "source": [
        "from sklearn.model_selection import GridSearchCV, cross_val_predict\n",
        "from sklearn import metrics\n",
        "\n",
        "X = data_train\n",
        "y = label_column\n",
        "\n",
        "\n",
        "search_space_C = [0.001, 0.01, 0.1, 1, 10]\n",
        "search_space_gamma = [1, 2, 3, 4, 5, 6]\n",
        "param_grid = {'gamma': search_space_gamma, 'C' : search_space_C}\n",
        "grid_search = GridSearchCV(model, param_grid, scoring = 'roc_auc', cv=10)\n",
        "grid_search.fit(X, y)\n",
        "\n",
        "print(grid_search.best_estimator_)\n",
        "print(grid_search.best_params_)\n",
        "print(grid_search.best_score_)\n"
      ],
      "execution_count": 58,
      "outputs": [
        {
          "output_type": "stream",
          "text": [
            "SVC(C=1, break_ties=False, cache_size=200, class_weight=None, coef0=0.0,\n",
            "    decision_function_shape='ovr', degree=3, gamma=1, kernel='rbf', max_iter=-1,\n",
            "    probability=False, random_state=None, shrinking=True, tol=0.001,\n",
            "    verbose=False)\n",
            "{'C': 1, 'gamma': 1}\n",
            "0.9998383838383837\n"
          ],
          "name": "stdout"
        }
      ]
    },
    {
      "cell_type": "markdown",
      "metadata": {
        "id": "FmndjJvkC37x",
        "colab_type": "text"
      },
      "source": [
        "**Define and validate model with optimized hyper parameter**"
      ]
    },
    {
      "cell_type": "code",
      "metadata": {
        "id": "ec5KjL7FQ9Y8",
        "colab_type": "code",
        "outputId": "ff2024f5-70e2-4b2c-a3e2-f8c3a3a35e20",
        "colab": {
          "base_uri": "https://localhost:8080/",
          "height": 34
        }
      },
      "source": [
        "model = SVC(kernel='rbf', gamma=1, C=1, probability=True)\n",
        "score_auc = cross_val_score(model, data_train, y=trainset['label'], scoring = 'roc_auc', cv=10).mean()\n",
        "print(score_auc)"
      ],
      "execution_count": 59,
      "outputs": [
        {
          "output_type": "stream",
          "text": [
            "0.9998383838383837\n"
          ],
          "name": "stdout"
        }
      ]
    },
    {
      "cell_type": "markdown",
      "metadata": {
        "id": "s7-1KEMFDFmX",
        "colab_type": "text"
      },
      "source": [
        "### ***Fit model on trainset***"
      ]
    },
    {
      "cell_type": "code",
      "metadata": {
        "id": "qCMXPQghRDgU",
        "colab_type": "code",
        "outputId": "6473e638-305d-4870-accd-282c2c9e2c01",
        "colab": {
          "base_uri": "https://localhost:8080/",
          "height": 85
        }
      },
      "source": [
        "model.fit(X,y)"
      ],
      "execution_count": 60,
      "outputs": [
        {
          "output_type": "execute_result",
          "data": {
            "text/plain": [
              "SVC(C=1, break_ties=False, cache_size=200, class_weight=None, coef0=0.0,\n",
              "    decision_function_shape='ovr', degree=3, gamma=1, kernel='rbf', max_iter=-1,\n",
              "    probability=True, random_state=None, shrinking=True, tol=0.001,\n",
              "    verbose=False)"
            ]
          },
          "metadata": {
            "tags": []
          },
          "execution_count": 60
        }
      ]
    },
    {
      "cell_type": "markdown",
      "metadata": {
        "id": "rJEy-IyqDIbs",
        "colab_type": "text"
      },
      "source": [
        "### ***Make predictions***"
      ]
    },
    {
      "cell_type": "code",
      "metadata": {
        "id": "9eaImmMyDP-5",
        "colab_type": "code",
        "outputId": "550ed4b1-2b89-4c32-a74f-097946e14bc6",
        "colab": {
          "base_uri": "https://localhost:8080/",
          "height": 136
        }
      },
      "source": [
        "\n",
        "predictions = model.predict_proba(data_test)\n",
        "#predictions = model.predict_proba(data_test)\n",
        "print(predictions)"
      ],
      "execution_count": 64,
      "outputs": [
        {
          "output_type": "stream",
          "text": [
            "[[9.99999535e-01 4.65354768e-07]\n",
            " [5.44753433e-14 1.00000000e+00]\n",
            " [5.95888035e-03 9.94041120e-01]\n",
            " ...\n",
            " [5.59199341e-01 4.40800659e-01]\n",
            " [5.59199341e-01 4.40800659e-01]\n",
            " [5.59199341e-01 4.40800659e-01]]\n"
          ],
          "name": "stdout"
        }
      ]
    },
    {
      "cell_type": "markdown",
      "metadata": {
        "id": "ixjrfuEsDQg4",
        "colab_type": "text"
      },
      "source": [
        "**Create new dataframe to load predictions**"
      ]
    },
    {
      "cell_type": "code",
      "metadata": {
        "id": "MIT00mh1Dkyd",
        "colab_type": "code",
        "outputId": "6c2300a2-e0e1-4efd-eba5-4a898d9236b7",
        "colab": {
          "base_uri": "https://localhost:8080/",
          "height": 255
        }
      },
      "source": [
        "PredictionsFemke = pd.DataFrame(columns=['index','label'])\n",
        "PredictionsFemke['index'] = index_column\n",
        "PredictionsFemke['label'] = predictions[:,1]\n",
        "\n",
        "print(PredictionsFemke)"
      ],
      "execution_count": 65,
      "outputs": [
        {
          "output_type": "stream",
          "text": [
            "       index         label\n",
            "0          0  4.653548e-07\n",
            "1          1  1.000000e+00\n",
            "2          2  9.940411e-01\n",
            "3          3  5.315494e-01\n",
            "4          4  4.413153e-01\n",
            "...      ...           ...\n",
            "12887  12887  4.408007e-01\n",
            "12888  12888  4.408007e-01\n",
            "12889  12889  4.408007e-01\n",
            "12890  12890  4.408007e-01\n",
            "12891  12891  4.408007e-01\n",
            "\n",
            "[12892 rows x 2 columns]\n"
          ],
          "name": "stdout"
        }
      ]
    },
    {
      "cell_type": "markdown",
      "metadata": {
        "id": "MBKg5YzlDmVA",
        "colab_type": "text"
      },
      "source": [
        "### **Save predictions in csv file**"
      ]
    },
    {
      "cell_type": "code",
      "metadata": {
        "id": "kAknAi1EDoyD",
        "colab_type": "code",
        "colab": {}
      },
      "source": [
        "filename = \"PredictionsFemke12052020_version3.csv\"\n",
        "\n",
        "#make sure to not write the Pandas index column (index=False)\n",
        "PredictionsFemke.to_csv(filename,index=False)"
      ],
      "execution_count": 0,
      "outputs": []
    }
  ]
}