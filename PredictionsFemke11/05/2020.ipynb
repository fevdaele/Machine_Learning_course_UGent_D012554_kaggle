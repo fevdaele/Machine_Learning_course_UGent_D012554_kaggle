{
  "nbformat": 4,
  "nbformat_minor": 0,
  "metadata": {
    "colab": {
      "name": "Copy of Kaggle_eye_blinking_prediciton_10/05/2020.ipynb",
      "provenance": [],
      "collapsed_sections": [],
      "toc_visible": true,
      "authorship_tag": "ABX9TyNYwqyqTdkDouuxhl9EqQH/",
      "include_colab_link": true
    },
    "kernelspec": {
      "name": "python3",
      "display_name": "Python 3"
    }
  },
  "cells": [
    {
      "cell_type": "markdown",
      "metadata": {
        "id": "view-in-github",
        "colab_type": "text"
      },
      "source": [
        "<a href=\"https://colab.research.google.com/github/fevdaele/Machine_Learning_course_UGent_D012554_kaggle/blob/master/PredictionsFemke11/05/2020.ipynb\" target=\"_parent\"><img src=\"https://colab.research.google.com/assets/colab-badge.svg\" alt=\"Open In Colab\"/></a>"
      ]
    },
    {
      "cell_type": "code",
      "metadata": {
        "id": "wSYtBr46HgSU",
        "colab_type": "code",
        "colab": {}
      },
      "source": [
        "%matplotlib inline\n",
        "import matplotlib.pyplot as plt;\n",
        "import numpy as np;\n",
        "import pandas as pd;\n",
        "import seaborn as sns;\n",
        "sns.set_context(\"notebook\", font_scale=1.4);\n",
        "sns.set_style(\"whitegrid\");\n",
        "from sklearn.linear_model import LogisticRegression\n",
        "from sklearn.model_selection import cross_val_score"
      ],
      "execution_count": 0,
      "outputs": []
    },
    {
      "cell_type": "markdown",
      "metadata": {
        "id": "S0ViAtjbet60",
        "colab_type": "text"
      },
      "source": [
        "### **Load train and dataset**"
      ]
    },
    {
      "cell_type": "code",
      "metadata": {
        "id": "A5KuWQNGejp3",
        "colab_type": "code",
        "colab": {}
      },
      "source": [
        "trainset = pd.read_csv(\"https://raw.githubusercontent.com/sdgroeve/Machine_Learning_course_UGent_D012554_kaggle/master/eeg_train.csv\")\n",
        "\n",
        "testset = pd.read_csv(\"https://raw.githubusercontent.com/sdgroeve/Machine_Learning_course_UGent_D012554_kaggle/master/eeg_test.csv\")"
      ],
      "execution_count": 0,
      "outputs": []
    },
    {
      "cell_type": "code",
      "metadata": {
        "id": "q5VTXM9ehghV",
        "colab_type": "code",
        "outputId": "9b8a4dee-afcf-42d7-9fa9-80bb7e94470a",
        "colab": {
          "base_uri": "https://localhost:8080/",
          "height": 204
        }
      },
      "source": [
        "trainset.head(5)\n",
        "#trainset.sort_values(by='label')\n"
      ],
      "execution_count": 18,
      "outputs": [
        {
          "output_type": "execute_result",
          "data": {
            "text/html": [
              "<div>\n",
              "<style scoped>\n",
              "    .dataframe tbody tr th:only-of-type {\n",
              "        vertical-align: middle;\n",
              "    }\n",
              "\n",
              "    .dataframe tbody tr th {\n",
              "        vertical-align: top;\n",
              "    }\n",
              "\n",
              "    .dataframe thead th {\n",
              "        text-align: right;\n",
              "    }\n",
              "</style>\n",
              "<table border=\"1\" class=\"dataframe\">\n",
              "  <thead>\n",
              "    <tr style=\"text-align: right;\">\n",
              "      <th></th>\n",
              "      <th>AF3</th>\n",
              "      <th>F7</th>\n",
              "      <th>F3</th>\n",
              "      <th>FC5</th>\n",
              "      <th>T7</th>\n",
              "      <th>P7</th>\n",
              "      <th>O1</th>\n",
              "      <th>02</th>\n",
              "      <th>P8</th>\n",
              "      <th>T8</th>\n",
              "      <th>FC6</th>\n",
              "      <th>F4</th>\n",
              "      <th>F8</th>\n",
              "      <th>AF4</th>\n",
              "      <th>label</th>\n",
              "    </tr>\n",
              "  </thead>\n",
              "  <tbody>\n",
              "    <tr>\n",
              "      <th>0</th>\n",
              "      <td>4299.49</td>\n",
              "      <td>3997.44</td>\n",
              "      <td>4277.95</td>\n",
              "      <td>4116.92</td>\n",
              "      <td>4353.85</td>\n",
              "      <td>4623.08</td>\n",
              "      <td>4100.00</td>\n",
              "      <td>4623.59</td>\n",
              "      <td>4202.56</td>\n",
              "      <td>4229.23</td>\n",
              "      <td>4211.79</td>\n",
              "      <td>4278.97</td>\n",
              "      <td>4600.00</td>\n",
              "      <td>4369.23</td>\n",
              "      <td>1</td>\n",
              "    </tr>\n",
              "    <tr>\n",
              "      <th>1</th>\n",
              "      <td>4302.05</td>\n",
              "      <td>3985.64</td>\n",
              "      <td>4261.03</td>\n",
              "      <td>4129.74</td>\n",
              "      <td>4334.36</td>\n",
              "      <td>4615.38</td>\n",
              "      <td>4072.31</td>\n",
              "      <td>4585.64</td>\n",
              "      <td>4192.31</td>\n",
              "      <td>4225.13</td>\n",
              "      <td>4195.90</td>\n",
              "      <td>4283.08</td>\n",
              "      <td>4607.18</td>\n",
              "      <td>4358.46</td>\n",
              "      <td>0</td>\n",
              "    </tr>\n",
              "    <tr>\n",
              "      <th>2</th>\n",
              "      <td>4321.03</td>\n",
              "      <td>4015.90</td>\n",
              "      <td>4265.13</td>\n",
              "      <td>4122.56</td>\n",
              "      <td>4333.33</td>\n",
              "      <td>4613.33</td>\n",
              "      <td>4072.82</td>\n",
              "      <td>4602.05</td>\n",
              "      <td>4192.31</td>\n",
              "      <td>4223.08</td>\n",
              "      <td>4155.38</td>\n",
              "      <td>4286.15</td>\n",
              "      <td>4608.21</td>\n",
              "      <td>4371.79</td>\n",
              "      <td>0</td>\n",
              "    </tr>\n",
              "    <tr>\n",
              "      <th>3</th>\n",
              "      <td>4408.21</td>\n",
              "      <td>4104.10</td>\n",
              "      <td>4380.00</td>\n",
              "      <td>4232.31</td>\n",
              "      <td>4449.74</td>\n",
              "      <td>4750.26</td>\n",
              "      <td>4169.23</td>\n",
              "      <td>4731.28</td>\n",
              "      <td>4311.28</td>\n",
              "      <td>4352.31</td>\n",
              "      <td>4319.49</td>\n",
              "      <td>4388.21</td>\n",
              "      <td>4715.90</td>\n",
              "      <td>4464.10</td>\n",
              "      <td>0</td>\n",
              "    </tr>\n",
              "    <tr>\n",
              "      <th>4</th>\n",
              "      <td>4347.18</td>\n",
              "      <td>3975.38</td>\n",
              "      <td>4266.67</td>\n",
              "      <td>4102.56</td>\n",
              "      <td>4333.33</td>\n",
              "      <td>4617.95</td>\n",
              "      <td>4097.44</td>\n",
              "      <td>4612.82</td>\n",
              "      <td>4210.77</td>\n",
              "      <td>4240.51</td>\n",
              "      <td>4248.21</td>\n",
              "      <td>4313.33</td>\n",
              "      <td>4664.10</td>\n",
              "      <td>4411.79</td>\n",
              "      <td>1</td>\n",
              "    </tr>\n",
              "  </tbody>\n",
              "</table>\n",
              "</div>"
            ],
            "text/plain": [
              "       AF3       F7       F3      FC5  ...       F4       F8      AF4  label\n",
              "0  4299.49  3997.44  4277.95  4116.92  ...  4278.97  4600.00  4369.23      1\n",
              "1  4302.05  3985.64  4261.03  4129.74  ...  4283.08  4607.18  4358.46      0\n",
              "2  4321.03  4015.90  4265.13  4122.56  ...  4286.15  4608.21  4371.79      0\n",
              "3  4408.21  4104.10  4380.00  4232.31  ...  4388.21  4715.90  4464.10      0\n",
              "4  4347.18  3975.38  4266.67  4102.56  ...  4313.33  4664.10  4411.79      1\n",
              "\n",
              "[5 rows x 15 columns]"
            ]
          },
          "metadata": {
            "tags": []
          },
          "execution_count": 18
        }
      ]
    },
    {
      "cell_type": "markdown",
      "metadata": {
        "id": "dzAW5T4RhpuY",
        "colab_type": "text"
      },
      "source": [
        "**Are there any missing values?**\n",
        "\n"
      ]
    },
    {
      "cell_type": "code",
      "metadata": {
        "id": "BV1g8Eg4h4bq",
        "colab_type": "code",
        "outputId": "c05387c8-5199-45ac-af13-98a4d093af63",
        "colab": {
          "base_uri": "https://localhost:8080/",
          "height": 34
        }
      },
      "source": [
        "trainset.isnull().sum().sum()"
      ],
      "execution_count": 19,
      "outputs": [
        {
          "output_type": "execute_result",
          "data": {
            "text/plain": [
              "0"
            ]
          },
          "metadata": {
            "tags": []
          },
          "execution_count": 19
        }
      ]
    },
    {
      "cell_type": "markdown",
      "metadata": {
        "id": "RhBF9YLpmTUi",
        "colab_type": "text"
      },
      "source": [
        "**How many datapoints are there for each class?**"
      ]
    },
    {
      "cell_type": "code",
      "metadata": {
        "id": "bcit-v5amNgp",
        "colab_type": "code",
        "outputId": "1986cfab-9809-47a3-f573-ea95ab8e033f",
        "colab": {
          "base_uri": "https://localhost:8080/",
          "height": 68
        }
      },
      "source": [
        "print(trainset[\"label\"].value_counts())"
      ],
      "execution_count": 20,
      "outputs": [
        {
          "output_type": "stream",
          "text": [
            "0    1099\n",
            "1     901\n",
            "Name: label, dtype: int64\n"
          ],
          "name": "stdout"
        }
      ]
    },
    {
      "cell_type": "markdown",
      "metadata": {
        "id": "-L1uBaY1hUJm",
        "colab_type": "text"
      },
      "source": [
        "### **Data pre processing**\n"
      ]
    },
    {
      "cell_type": "code",
      "metadata": {
        "id": "P5Yg_U8a7MN9",
        "colab_type": "code",
        "outputId": "b7b5de14-17ad-4309-8b4c-2f3a40e24fe6",
        "colab": {
          "base_uri": "https://localhost:8080/",
          "height": 221
        }
      },
      "source": [
        "data_train = trainset.copy()\n",
        "data_train.pop('label')\n",
        "\n",
        "data_test = testset.copy()\n",
        "data_test.pop('index')"
      ],
      "execution_count": 21,
      "outputs": [
        {
          "output_type": "execute_result",
          "data": {
            "text/plain": [
              "0            0\n",
              "1            1\n",
              "2            2\n",
              "3            3\n",
              "4            4\n",
              "         ...  \n",
              "12887    12887\n",
              "12888    12888\n",
              "12889    12889\n",
              "12890    12890\n",
              "12891    12891\n",
              "Name: index, Length: 12892, dtype: int64"
            ]
          },
          "metadata": {
            "tags": []
          },
          "execution_count": 21
        }
      ]
    },
    {
      "cell_type": "markdown",
      "metadata": {
        "id": "aVMgh9G_rhhP",
        "colab_type": "text"
      },
      "source": [
        "**Scaling of trainset**"
      ]
    },
    {
      "cell_type": "code",
      "metadata": {
        "id": "kPwhserqraWA",
        "colab_type": "code",
        "colab": {}
      },
      "source": [
        "from sklearn.preprocessing import StandardScaler\n",
        "\n",
        "scaler = StandardScaler()\n",
        "data_train = scaler.fit_transform(data_train)\n",
        "\n",
        "\n",
        "#plt.figure(figsize=(12,8))\n",
        "#trainset_scaled.boxplot(vert=False)\n",
        "#plt.show()"
      ],
      "execution_count": 0,
      "outputs": []
    },
    {
      "cell_type": "markdown",
      "metadata": {
        "id": "xfXy_aUlssUC",
        "colab_type": "text"
      },
      "source": [
        "**Scaling of testset**"
      ]
    },
    {
      "cell_type": "code",
      "metadata": {
        "id": "W07gnoapsvAf",
        "colab_type": "code",
        "colab": {}
      },
      "source": [
        "data_test = scaler.transform(data_test)\n",
        "#plt.figure(figsize=(12,8))\n",
        "#testset_scaled.boxplot(vert=False)\n",
        "#plt.show()\n"
      ],
      "execution_count": 0,
      "outputs": []
    },
    {
      "cell_type": "markdown",
      "metadata": {
        "id": "yJOdVGqxIvrr",
        "colab_type": "text"
      },
      "source": [
        "### ***Model selection***"
      ]
    },
    {
      "cell_type": "markdown",
      "metadata": {
        "id": "eoo58vlTI_k6",
        "colab_type": "text"
      },
      "source": [
        "***Define model***"
      ]
    },
    {
      "cell_type": "code",
      "metadata": {
        "id": "TSK-3T2UI8t6",
        "colab_type": "code",
        "outputId": "e776b47f-93d5-41dc-e0e5-a0cff075ce7a",
        "colab": {
          "base_uri": "https://localhost:8080/",
          "height": 34
        }
      },
      "source": [
        "# Since we have two class data sets, a logistic regression model will be selected to fit the train data.\n",
        "\n",
        "model = LogisticRegression()\n",
        "score_auc = cross_val_score(model, data_train, y=trainset['label'], scoring = 'roc_auc', cv=10).mean()\n",
        "print(score_auc)\n",
        "\n"
      ],
      "execution_count": 24,
      "outputs": [
        {
          "output_type": "stream",
          "text": [
            "0.6593382417786088\n"
          ],
          "name": "stdout"
        }
      ]
    },
    {
      "cell_type": "markdown",
      "metadata": {
        "id": "xk4KvugWNt1u",
        "colab_type": "text"
      },
      "source": [
        "### ***Model optimization***"
      ]
    },
    {
      "cell_type": "code",
      "metadata": {
        "id": "di-3sezANx4r",
        "colab_type": "code",
        "outputId": "7865afb7-87fe-45a8-e40b-b2d059dbf5a8",
        "colab": {
          "base_uri": "https://localhost:8080/",
          "height": 136
        }
      },
      "source": [
        "#logistic regression models only have one hyperparameter, C. To optimize the model, the hyperparameter needs to be changed.\n",
        "from sklearn.model_selection import GridSearchCV\n",
        "\n",
        "model = LogisticRegression()\n",
        "search_space = [0.001,0.01,0.1,1,10,100]\n",
        "gridDict = dict(C=search_space)\n",
        "params = gridDict\n",
        "grid_search = GridSearchCV(model, param_grid=params, scoring = 'roc_auc', cv=10)\n",
        "grid_search.fit(data_train, trainset.label)\n",
        "\n",
        "print(grid_search.best_estimator_)\n",
        "print(grid_search.best_params_)\n",
        "print(grid_search.best_score_)"
      ],
      "execution_count": 25,
      "outputs": [
        {
          "output_type": "stream",
          "text": [
            "LogisticRegression(C=100, class_weight=None, dual=False, fit_intercept=True,\n",
            "                   intercept_scaling=1, l1_ratio=None, max_iter=100,\n",
            "                   multi_class='auto', n_jobs=None, penalty='l2',\n",
            "                   random_state=None, solver='lbfgs', tol=0.0001, verbose=0,\n",
            "                   warm_start=False)\n",
            "{'C': 100}\n",
            "0.6596007906466621\n"
          ],
          "name": "stdout"
        }
      ]
    },
    {
      "cell_type": "code",
      "metadata": {
        "id": "yvXJMwvAG6w-",
        "colab_type": "code",
        "outputId": "7e9dd07b-dad9-4fbc-cedc-9f504298b0c4",
        "colab": {
          "base_uri": "https://localhost:8080/",
          "height": 34
        }
      },
      "source": [
        "model = LogisticRegression(C=100)\n",
        "score_auc = cross_val_score(model, data_train, y=trainset['label'], scoring = 'roc_auc', cv=10).mean()\n",
        "print(score_auc)"
      ],
      "execution_count": 26,
      "outputs": [
        {
          "output_type": "stream",
          "text": [
            "0.6596007906466621\n"
          ],
          "name": "stdout"
        }
      ]
    },
    {
      "cell_type": "markdown",
      "metadata": {
        "id": "ouEZnws2Ny1e",
        "colab_type": "text"
      },
      "source": [
        "### ***Fit model on trainset***"
      ]
    },
    {
      "cell_type": "code",
      "metadata": {
        "id": "UKRZxE6YN2VK",
        "colab_type": "code",
        "outputId": "92439c07-c24d-4e1b-f897-155605e3f7da",
        "colab": {
          "base_uri": "https://localhost:8080/",
          "height": 102
        }
      },
      "source": [
        "model.fit(data_train, trainset['label'])"
      ],
      "execution_count": 27,
      "outputs": [
        {
          "output_type": "execute_result",
          "data": {
            "text/plain": [
              "LogisticRegression(C=100, class_weight=None, dual=False, fit_intercept=True,\n",
              "                   intercept_scaling=1, l1_ratio=None, max_iter=100,\n",
              "                   multi_class='auto', n_jobs=None, penalty='l2',\n",
              "                   random_state=None, solver='lbfgs', tol=0.0001, verbose=0,\n",
              "                   warm_start=False)"
            ]
          },
          "metadata": {
            "tags": []
          },
          "execution_count": 27
        }
      ]
    },
    {
      "cell_type": "markdown",
      "metadata": {
        "id": "ALnW78zXN3W5",
        "colab_type": "text"
      },
      "source": [
        "### ***Make predictions***"
      ]
    },
    {
      "cell_type": "code",
      "metadata": {
        "id": "c9f27VOLN609",
        "colab_type": "code",
        "outputId": "eab0a6bc-d810-407f-fc5e-86988af6ec1f",
        "colab": {
          "base_uri": "https://localhost:8080/",
          "height": 136
        }
      },
      "source": [
        "predictions = model.predict_proba(data_test)\n",
        "print(predictions)"
      ],
      "execution_count": 28,
      "outputs": [
        {
          "output_type": "stream",
          "text": [
            "[[0.76329792 0.23670208]\n",
            " [0.64229297 0.35770703]\n",
            " [0.68605999 0.31394001]\n",
            " ...\n",
            " [0.52637569 0.47362431]\n",
            " [0.36303085 0.63696915]\n",
            " [0.57893101 0.42106899]]\n"
          ],
          "name": "stdout"
        }
      ]
    },
    {
      "cell_type": "code",
      "metadata": {
        "id": "pcyKuoevHLmG",
        "colab_type": "code",
        "outputId": "14ef6dc5-cdf5-4b6a-b9ab-d48fd74721fb",
        "colab": {
          "base_uri": "https://localhost:8080/",
          "height": 255
        }
      },
      "source": [
        "\n",
        "PredictionsFemke = pd.DataFrame({'index': testset['index'], 'label': predictions[:,1]})\n",
        "\n",
        "\n",
        "\n",
        "print(PredictionsFemke)"
      ],
      "execution_count": 32,
      "outputs": [
        {
          "output_type": "stream",
          "text": [
            "       index     label\n",
            "0          0  0.236702\n",
            "1          1  0.357707\n",
            "2          2  0.313940\n",
            "3          3  0.391177\n",
            "4          4  0.833815\n",
            "...      ...       ...\n",
            "12887  12887  0.469027\n",
            "12888  12888  0.560396\n",
            "12889  12889  0.473624\n",
            "12890  12890  0.636969\n",
            "12891  12891  0.421069\n",
            "\n",
            "[12892 rows x 2 columns]\n"
          ],
          "name": "stdout"
        }
      ]
    },
    {
      "cell_type": "code",
      "metadata": {
        "id": "OanlB5qSKcfi",
        "colab_type": "code",
        "colab": {}
      },
      "source": [
        "filename = \"PredictionsFemke.csv\"\n",
        "\n",
        "#make sure to not write the Pandas index column (index=False)\n",
        "PredictionsFemke.to_csv(filename,index=False)"
      ],
      "execution_count": 0,
      "outputs": []
    }
  ]
}