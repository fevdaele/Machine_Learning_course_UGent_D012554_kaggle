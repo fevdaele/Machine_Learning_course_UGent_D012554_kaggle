{
  "nbformat": 4,
  "nbformat_minor": 0,
  "metadata": {
    "colab": {
      "name": "PredictionsFemke_12/05/2020",
      "provenance": [],
      "collapsed_sections": [],
      "authorship_tag": "ABX9TyOkHFIyQRQrMWw3bDKtMKS7",
      "include_colab_link": true
    },
    "kernelspec": {
      "name": "python3",
      "display_name": "Python 3"
    }
  },
  "cells": [
    {
      "cell_type": "markdown",
      "metadata": {
        "id": "view-in-github",
        "colab_type": "text"
      },
      "source": [
        "<a href=\"https://colab.research.google.com/github/fevdaele/Machine_Learning_course_UGent_D012554_kaggle/blob/master/PredictionsFemke_12052020.ipynb\" target=\"_parent\"><img src=\"https://colab.research.google.com/assets/colab-badge.svg\" alt=\"Open In Colab\"/></a>"
      ]
    },
    {
      "cell_type": "code",
      "metadata": {
        "id": "C2dDgtaQBMk6",
        "colab_type": "code",
        "colab": {}
      },
      "source": [
        "%matplotlib inline\n",
        "import matplotlib.pyplot as plt;\n",
        "import numpy as np;\n",
        "import pandas as pd;\n",
        "import seaborn as sns;\n",
        "sns.set_context(\"notebook\", font_scale=1.4);\n",
        "sns.set_style(\"whitegrid\");\n",
        "from sklearn.linear_model import LogisticRegression\n",
        "from sklearn.model_selection import cross_val_score"
      ],
      "execution_count": 0,
      "outputs": []
    },
    {
      "cell_type": "markdown",
      "metadata": {
        "id": "RSVTfIAOCPgZ",
        "colab_type": "text"
      },
      "source": [
        "### **Load train and dataset**"
      ]
    },
    {
      "cell_type": "code",
      "metadata": {
        "id": "YVeyic8yCTS0",
        "colab_type": "code",
        "colab": {}
      },
      "source": [
        "trainset = pd.read_csv(\"https://raw.githubusercontent.com/sdgroeve/Machine_Learning_course_UGent_D012554_kaggle/master/eeg_train.csv\")\n",
        "\n",
        "testset = pd.read_csv(\"https://raw.githubusercontent.com/sdgroeve/Machine_Learning_course_UGent_D012554_kaggle/master/eeg_test.csv\")"
      ],
      "execution_count": 0,
      "outputs": []
    },
    {
      "cell_type": "markdown",
      "metadata": {
        "id": "cNDTIIY0CdoI",
        "colab_type": "text"
      },
      "source": [
        "### **Data pre processing**"
      ]
    },
    {
      "cell_type": "code",
      "metadata": {
        "id": "UXHbDZ8VCgYL",
        "colab_type": "code",
        "colab": {}
      },
      "source": [
        "data_train = trainset.copy()\n",
        "label_column = data_train.pop('label')\n",
        "\n",
        "data_test = testset.copy()\n",
        "index_column = data_test.pop('index')"
      ],
      "execution_count": 0,
      "outputs": []
    },
    {
      "cell_type": "markdown",
      "metadata": {
        "id": "QNL8HfIgCjTO",
        "colab_type": "text"
      },
      "source": [
        "**Scaling of trainset**"
      ]
    },
    {
      "cell_type": "code",
      "metadata": {
        "id": "fo1hspnaClQA",
        "colab_type": "code",
        "colab": {}
      },
      "source": [
        "from sklearn.preprocessing import StandardScaler\n",
        "\n",
        "scaler = StandardScaler()\n",
        "data_train = scaler.fit_transform(data_train)\n",
        "\n",
        "\n",
        "#plt.figure(figsize=(12,8))\n",
        "#trainset_scaled.boxplot(vert=False)\n",
        "#plt.show()"
      ],
      "execution_count": 0,
      "outputs": []
    },
    {
      "cell_type": "markdown",
      "metadata": {
        "id": "b3H1HMr_Cqc1",
        "colab_type": "text"
      },
      "source": [
        "**Scaling of testset**"
      ]
    },
    {
      "cell_type": "code",
      "metadata": {
        "id": "bG3ntuf5Cnyi",
        "colab_type": "code",
        "colab": {}
      },
      "source": [
        "data_test = scaler.transform(data_test)\n",
        "#plt.figure(figsize=(12,8))\n",
        "#testset_scaled.boxplot(vert=False)\n",
        "#plt.show()\n"
      ],
      "execution_count": 0,
      "outputs": []
    },
    {
      "cell_type": "markdown",
      "metadata": {
        "id": "xDKDCW6uCvxA",
        "colab_type": "text"
      },
      "source": [
        "### ***Model selection and validation***"
      ]
    },
    {
      "cell_type": "code",
      "metadata": {
        "id": "GpzMiik2Ic-Q",
        "colab_type": "code",
        "colab": {
          "base_uri": "https://localhost:8080/",
          "height": 34
        },
        "outputId": "7c85cce1-e8ea-4fb5-f392-508c98a78b0b"
      },
      "source": [
        "from sklearn.svm import SVC\n",
        "\n",
        "y = label_column\n",
        "X = data_train\n",
        "\n",
        "model = SVC(kernel='poly',C=1,degree=2)\n",
        "\n",
        "score_auc = cross_val_score(model, data_train, y=trainset['label'], scoring = 'roc_auc', cv=10).mean()\n",
        "print(score_auc)\n"
      ],
      "execution_count": 58,
      "outputs": [
        {
          "output_type": "stream",
          "text": [
            "0.7928429287328369\n"
          ],
          "name": "stdout"
        }
      ]
    },
    {
      "cell_type": "markdown",
      "metadata": {
        "id": "w23fn9yfCz-3",
        "colab_type": "text"
      },
      "source": [
        "### ***Model optimization***"
      ]
    },
    {
      "cell_type": "code",
      "metadata": {
        "id": "cnS5SKkKLS-5",
        "colab_type": "code",
        "colab": {
          "base_uri": "https://localhost:8080/",
          "height": 119
        },
        "outputId": "b6c008df-80c4-43c3-9a0e-ab2a6b968770"
      },
      "source": [
        "from sklearn.model_selection import GridSearchCV, cross_val_predict\n",
        "from sklearn import metrics\n",
        "\n",
        "X = data_train\n",
        "y = label_column\n",
        "\n",
        "\n",
        "search_space_C = [0.001, 0.01, 0.1, 1, 10]\n",
        "search_space_degree = [1, 2, 3, 4, 5, 6]\n",
        "param_grid = {'C': search_space_C, 'degree' : search_space_degree}\n",
        "grid_search = GridSearchCV(model, param_grid, scoring = 'roc_auc', cv=10)\n",
        "grid_search.fit(X, y)\n",
        "\n",
        "print(grid_search.best_estimator_)\n",
        "print(grid_search.best_params_)\n",
        "print(grid_search.best_score_)\n"
      ],
      "execution_count": 59,
      "outputs": [
        {
          "output_type": "stream",
          "text": [
            "SVC(C=10, break_ties=False, cache_size=200, class_weight=None, coef0=0.0,\n",
            "    decision_function_shape='ovr', degree=3, gamma='scale', kernel='poly',\n",
            "    max_iter=-1, probability=False, random_state=None, shrinking=True,\n",
            "    tol=0.001, verbose=False)\n",
            "{'C': 10, 'degree': 3}\n",
            "0.8867387841516281\n"
          ],
          "name": "stdout"
        }
      ]
    },
    {
      "cell_type": "code",
      "metadata": {
        "id": "O7ZkvHXVPrVs",
        "colab_type": "code",
        "colab": {
          "base_uri": "https://localhost:8080/",
          "height": 119
        },
        "outputId": "045c1aac-5b7c-4c50-8925-bc399b4b8de4"
      },
      "source": [
        "from sklearn.model_selection import GridSearchCV, cross_val_predict\n",
        "from sklearn import metrics\n",
        "\n",
        "X = data_train\n",
        "y = label_column\n",
        "\n",
        "\n",
        "search_space_C = [10, 40, 60, 90, 100]\n",
        "search_space_degree = [3, 4, 5, 6]\n",
        "param_grid = {'C': search_space_C, 'degree' : search_space_degree}\n",
        "grid_search = GridSearchCV(model, param_grid, scoring = 'roc_auc', cv=10)\n",
        "grid_search.fit(X, y)\n",
        "\n",
        "print(grid_search.best_estimator_)\n",
        "print(grid_search.best_params_)\n",
        "print(grid_search.best_score_)"
      ],
      "execution_count": 60,
      "outputs": [
        {
          "output_type": "stream",
          "text": [
            "SVC(C=100, break_ties=False, cache_size=200, class_weight=None, coef0=0.0,\n",
            "    decision_function_shape='ovr', degree=3, gamma='scale', kernel='poly',\n",
            "    max_iter=-1, probability=False, random_state=None, shrinking=True,\n",
            "    tol=0.001, verbose=False)\n",
            "{'C': 100, 'degree': 3}\n",
            "0.9142188148243193\n"
          ],
          "name": "stdout"
        }
      ]
    },
    {
      "cell_type": "markdown",
      "metadata": {
        "id": "FmndjJvkC37x",
        "colab_type": "text"
      },
      "source": [
        "**Define and validate model with optimized hyper parameter**"
      ]
    },
    {
      "cell_type": "code",
      "metadata": {
        "id": "ec5KjL7FQ9Y8",
        "colab_type": "code",
        "colab": {
          "base_uri": "https://localhost:8080/",
          "height": 34
        },
        "outputId": "13826f5c-0755-4938-826d-2e44dc4fb2d3"
      },
      "source": [
        "model = SVC(kernel='poly',C=100,degree=3, probability=True)\n",
        "score_auc = cross_val_score(model, data_train, y=trainset['label'], scoring = 'roc_auc', cv=10).mean()\n",
        "print(score_auc)"
      ],
      "execution_count": 64,
      "outputs": [
        {
          "output_type": "stream",
          "text": [
            "0.9142188148243193\n"
          ],
          "name": "stdout"
        }
      ]
    },
    {
      "cell_type": "markdown",
      "metadata": {
        "id": "s7-1KEMFDFmX",
        "colab_type": "text"
      },
      "source": [
        "### ***Fit model on trainset***"
      ]
    },
    {
      "cell_type": "code",
      "metadata": {
        "id": "qCMXPQghRDgU",
        "colab_type": "code",
        "colab": {
          "base_uri": "https://localhost:8080/",
          "height": 85
        },
        "outputId": "be444b6a-79ef-4e3f-ad1d-88e2b95b9a7e"
      },
      "source": [
        "model.fit(X,y)"
      ],
      "execution_count": 65,
      "outputs": [
        {
          "output_type": "execute_result",
          "data": {
            "text/plain": [
              "SVC(C=100, break_ties=False, cache_size=200, class_weight=None, coef0=0.0,\n",
              "    decision_function_shape='ovr', degree=3, gamma='scale', kernel='poly',\n",
              "    max_iter=-1, probability=True, random_state=None, shrinking=True, tol=0.001,\n",
              "    verbose=False)"
            ]
          },
          "metadata": {
            "tags": []
          },
          "execution_count": 65
        }
      ]
    },
    {
      "cell_type": "markdown",
      "metadata": {
        "id": "rJEy-IyqDIbs",
        "colab_type": "text"
      },
      "source": [
        "### ***Make predictions***"
      ]
    },
    {
      "cell_type": "code",
      "metadata": {
        "id": "9eaImmMyDP-5",
        "colab_type": "code",
        "colab": {
          "base_uri": "https://localhost:8080/",
          "height": 136
        },
        "outputId": "8e629028-0535-4bda-8dc2-9dfc06849f87"
      },
      "source": [
        "predictions = model.predict_proba(data_test)\n",
        "print(predictions)"
      ],
      "execution_count": 66,
      "outputs": [
        {
          "output_type": "stream",
          "text": [
            "[[0.95787306 0.04212694]\n",
            " [0.61638014 0.38361986]\n",
            " [0.73710714 0.26289286]\n",
            " ...\n",
            " [0.21151822 0.78848178]\n",
            " [0.22508808 0.77491192]\n",
            " [0.99799438 0.00200562]]\n"
          ],
          "name": "stdout"
        }
      ]
    },
    {
      "cell_type": "markdown",
      "metadata": {
        "id": "ixjrfuEsDQg4",
        "colab_type": "text"
      },
      "source": [
        "**Create new dataframe to load predictions**"
      ]
    },
    {
      "cell_type": "code",
      "metadata": {
        "id": "MIT00mh1Dkyd",
        "colab_type": "code",
        "colab": {
          "base_uri": "https://localhost:8080/",
          "height": 255
        },
        "outputId": "d4363d85-514e-4f10-dc27-ba11fd740564"
      },
      "source": [
        "PredictionsFemke = pd.DataFrame(columns=['index','label'])\n",
        "PredictionsFemke['index'] = index_column\n",
        "PredictionsFemke['label'] = predictions[:,1]\n",
        "\n",
        "print(PredictionsFemke)"
      ],
      "execution_count": 67,
      "outputs": [
        {
          "output_type": "stream",
          "text": [
            "       index     label\n",
            "0          0  0.042127\n",
            "1          1  0.383620\n",
            "2          2  0.262893\n",
            "3          3  0.821972\n",
            "4          4  0.970660\n",
            "...      ...       ...\n",
            "12887  12887  0.322001\n",
            "12888  12888  0.707277\n",
            "12889  12889  0.788482\n",
            "12890  12890  0.774912\n",
            "12891  12891  0.002006\n",
            "\n",
            "[12892 rows x 2 columns]\n"
          ],
          "name": "stdout"
        }
      ]
    },
    {
      "cell_type": "markdown",
      "metadata": {
        "id": "MBKg5YzlDmVA",
        "colab_type": "text"
      },
      "source": [
        "### **Save predictions in csv file**"
      ]
    },
    {
      "cell_type": "code",
      "metadata": {
        "id": "kAknAi1EDoyD",
        "colab_type": "code",
        "colab": {}
      },
      "source": [
        "filename = \"PredictionsFemke12052020.csv\"\n",
        "\n",
        "#make sure to not write the Pandas index column (index=False)\n",
        "PredictionsFemke.to_csv(filename,index=False)"
      ],
      "execution_count": 0,
      "outputs": []
    }
  ]
}